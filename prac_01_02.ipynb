{
 "cells": [
  {
   "cell_type": "code",
   "execution_count": 27,
   "metadata": {},
   "outputs": [
    {
     "name": "stdout",
     "output_type": "stream",
     "text": [
      "후플푸프!\n"
     ]
    }
   ],
   "source": [
    "import random\n",
    "\n",
    "dormitories=['그리핀도르','후플푸프','레번클로','슬리데린']\n",
    "for dorm in dormitories:\n",
    "    selected=random.choice(dormitories)\n",
    "    print(f'{selected}!')\n",
    "    break\n"
   ]
  },
  {
   "cell_type": "code",
   "execution_count": 9,
   "metadata": {},
   "outputs": [
    {
     "name": "stdout",
     "output_type": "stream",
     "text": [
      "a\n",
      "b\n",
      "c\n",
      "d\n",
      "e\n",
      "f\n",
      "g\n",
      "h\n",
      "i\n",
      "j\n",
      "k\n",
      "l\n",
      "m\n",
      "n\n",
      "o\n",
      "p\n",
      "q\n",
      "r\n",
      "s\n",
      "t\n",
      "u\n",
      "v\n",
      "w\n",
      "x\n",
      "y\n",
      "z\n"
     ]
    }
   ],
   "source": [
    "for char in 'abcdefghijklmnopqrstuvwxyz':\n",
    "    print(char)"
   ]
  },
  {
   "cell_type": "code",
   "execution_count": 32,
   "metadata": {},
   "outputs": [],
   "source": [
    "def update_and_remove_spells(known_spells: set, new_spells: set, obsolete_spell: str) -> set:\n",
    "    # YOUR CODE HERE\n",
    "    \n",
    "    tmp1=known_spells | new_spells\n",
    "    tmp2=set()\n",
    "    tmp2.add(obsolete_spell)\n",
    "    result=tmp1-tmp2\n",
    "\n",
    "    return result\n",
    "\n",
    "#print(update_and_remove_spells({\"Expelliarmus\", \"Wingardium Leviosa\", \"Stupefy\"}, {\"Alohomora\", \"Expecto Patronum\"}, \"Wingardium Leviosa\"))\n"
   ]
  },
  {
   "cell_type": "code",
   "execution_count": 38,
   "metadata": {},
   "outputs": [
    {
     "name": "stdout",
     "output_type": "stream",
     "text": [
      "{1, 2, 5}\n"
     ]
    }
   ],
   "source": [
    "lst=[1,2,3,2,1,5,6,5,5,7]\n",
    "duplicated=set()\n",
    "for idx, item in enumerate(lst):\n",
    "    for j in range(idx+1, len(lst)):\n",
    "        if lst[idx]==lst[j]:\n",
    "            duplicated.add(lst[j])\n",
    "\n",
    "print(duplicated)\n"
   ]
  },
  {
   "cell_type": "code",
   "execution_count": null,
   "metadata": {},
   "outputs": [],
   "source": [
    "def process_function(element):\n",
    "    "
   ]
  },
  {
   "cell_type": "code",
   "execution_count": 48,
   "metadata": {},
   "outputs": [
    {
     "name": "stdout",
     "output_type": "stream",
     "text": [
      "팀 B 승리\n"
     ]
    }
   ],
   "source": [
    "import random\n",
    "\n",
    "def tug_of_war_game(team_a_strength: int, team_b_strength: int) -> str:\n",
    "    # YOUR CODE HERE\n",
    "    tf=[-3,-2,-1,1,2,3]\n",
    "    while True:\n",
    "        team_a_strength+=random.choice(tf)\n",
    "        if team_a_strength<=0:\n",
    "            return '팀 B 승리'\n",
    "        team_b_strength+=random.choice(tf)\n",
    "        if team_b_strength<=0:\n",
    "            return '팀 A 승리'\n",
    "\n",
    "print(tug_of_war_game(10, 8))"
   ]
  }
 ],
 "metadata": {
  "kernelspec": {
   "display_name": "Python 3",
   "language": "python",
   "name": "python3"
  },
  "language_info": {
   "codemirror_mode": {
    "name": "ipython",
    "version": 3
   },
   "file_extension": ".py",
   "mimetype": "text/x-python",
   "name": "python",
   "nbconvert_exporter": "python",
   "pygments_lexer": "ipython3",
   "version": "3.12.1"
  }
 },
 "nbformat": 4,
 "nbformat_minor": 2
}
