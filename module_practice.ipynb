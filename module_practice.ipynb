{
 "cells": [
  {
   "cell_type": "code",
   "execution_count": 3,
   "metadata": {},
   "outputs": [
    {
     "name": "stdout",
     "output_type": "stream",
     "text": [
      "4.0\n"
     ]
    }
   ],
   "source": [
    "import math\n",
    "print(math.sqrt(16))"
   ]
  },
  {
   "cell_type": "code",
   "execution_count": 4,
   "metadata": {},
   "outputs": [
    {
     "name": "stdout",
     "output_type": "stream",
     "text": [
      "8.0\n"
     ]
    }
   ],
   "source": [
    "print(math.pow(2,3))"
   ]
  },
  {
   "cell_type": "code",
   "execution_count": 6,
   "metadata": {},
   "outputs": [
    {
     "name": "stdout",
     "output_type": "stream",
     "text": [
      "8\n"
     ]
    }
   ],
   "source": [
    "import random\n",
    "print(random.randint(1,10))"
   ]
  },
  {
   "cell_type": "code",
   "execution_count": 7,
   "metadata": {},
   "outputs": [
    {
     "name": "stdout",
     "output_type": "stream",
     "text": [
      "삼성\n"
     ]
    }
   ],
   "source": [
    "items=['삼성','애플','구글']\n",
    "print(random.choice(items))"
   ]
  },
  {
   "cell_type": "code",
   "execution_count": 8,
   "metadata": {},
   "outputs": [
    {
     "name": "stdout",
     "output_type": "stream",
     "text": [
      "[3, 5, 4, 2, 1]\n"
     ]
    }
   ],
   "source": [
    "numbers=[1,2,3,4,5]\n",
    "random.shuffle(numbers)\n",
    "print(numbers)"
   ]
  },
  {
   "cell_type": "code",
   "execution_count": 12,
   "metadata": {},
   "outputs": [
    {
     "name": "stdout",
     "output_type": "stream",
     "text": [
      "['삼성', '삼성']\n"
     ]
    }
   ],
   "source": [
    "print(random.choices(['삼성','애플','구글'],weights=[3,1,1],k=2))"
   ]
  },
  {
   "cell_type": "code",
   "execution_count": 14,
   "metadata": {},
   "outputs": [
    {
     "name": "stdout",
     "output_type": "stream",
     "text": [
      "Counter({'s': 2, 'a': 1, 'm': 1, 'u': 1, 'n': 1, 'g': 1})\n"
     ]
    }
   ],
   "source": [
    "from collections import Counter\n",
    "\n",
    "char_count=Counter(\"samsung\")\n",
    "print(char_count)"
   ]
  },
  {
   "cell_type": "code",
   "execution_count": 16,
   "metadata": {},
   "outputs": [
    {
     "name": "stdout",
     "output_type": "stream",
     "text": [
      "[('삼성', 3), ('애플', 2)]\n",
      "6\n"
     ]
    }
   ],
   "source": [
    "world_count=Counter(['삼성','애플','삼성','아마존','애플','삼성'])\n",
    "print(world_count.most_common(2))\n",
    "print(sum(world_count.values()))"
   ]
  },
  {
   "cell_type": "code",
   "execution_count": 17,
   "metadata": {},
   "outputs": [
    {
     "data": {
      "text/plain": [
       "['c:\\\\Users\\\\r2com\\\\Documents\\\\GitHub\\\\sesac-practice',\n",
       " 'c:\\\\Users\\\\r2com\\\\AppData\\\\Local\\\\Programs\\\\Python\\\\Python312\\\\python312.zip',\n",
       " 'c:\\\\Users\\\\r2com\\\\AppData\\\\Local\\\\Programs\\\\Python\\\\Python312\\\\DLLs',\n",
       " 'c:\\\\Users\\\\r2com\\\\AppData\\\\Local\\\\Programs\\\\Python\\\\Python312\\\\Lib',\n",
       " 'c:\\\\Users\\\\r2com\\\\AppData\\\\Local\\\\Programs\\\\Python\\\\Python312',\n",
       " '',\n",
       " 'C:\\\\Users\\\\r2com\\\\AppData\\\\Roaming\\\\Python\\\\Python312\\\\site-packages',\n",
       " 'C:\\\\Users\\\\r2com\\\\AppData\\\\Roaming\\\\Python\\\\Python312\\\\site-packages\\\\win32',\n",
       " 'C:\\\\Users\\\\r2com\\\\AppData\\\\Roaming\\\\Python\\\\Python312\\\\site-packages\\\\win32\\\\lib',\n",
       " 'C:\\\\Users\\\\r2com\\\\AppData\\\\Roaming\\\\Python\\\\Python312\\\\site-packages\\\\Pythonwin',\n",
       " 'c:\\\\Users\\\\r2com\\\\AppData\\\\Local\\\\Programs\\\\Python\\\\Python312\\\\Lib\\\\site-packages']"
      ]
     },
     "execution_count": 17,
     "metadata": {},
     "output_type": "execute_result"
    }
   ],
   "source": [
    "import sys\n",
    "sys.path"
   ]
  },
  {
   "cell_type": "code",
   "execution_count": 19,
   "metadata": {},
   "outputs": [
    {
     "name": "stdout",
     "output_type": "stream",
     "text": [
      "befor: ['c:\\\\Users\\\\r2com\\\\Documents\\\\GitHub\\\\sesac-practice', 'c:\\\\Users\\\\r2com\\\\AppData\\\\Local\\\\Programs\\\\Python\\\\Python312\\\\python312.zip', 'c:\\\\Users\\\\r2com\\\\AppData\\\\Local\\\\Programs\\\\Python\\\\Python312\\\\DLLs', 'c:\\\\Users\\\\r2com\\\\AppData\\\\Local\\\\Programs\\\\Python\\\\Python312\\\\Lib', 'c:\\\\Users\\\\r2com\\\\AppData\\\\Local\\\\Programs\\\\Python\\\\Python312', '', 'C:\\\\Users\\\\r2com\\\\AppData\\\\Roaming\\\\Python\\\\Python312\\\\site-packages', 'C:\\\\Users\\\\r2com\\\\AppData\\\\Roaming\\\\Python\\\\Python312\\\\site-packages\\\\win32', 'C:\\\\Users\\\\r2com\\\\AppData\\\\Roaming\\\\Python\\\\Python312\\\\site-packages\\\\win32\\\\lib', 'C:\\\\Users\\\\r2com\\\\AppData\\\\Roaming\\\\Python\\\\Python312\\\\site-packages\\\\Pythonwin', 'c:\\\\Users\\\\r2com\\\\AppData\\\\Local\\\\Programs\\\\Python\\\\Python312\\\\Lib\\\\site-packages']\n",
      "after: ['c:\\\\Users\\\\r2com\\\\Documents\\\\GitHub\\\\sesac-practice', 'c:\\\\Users\\\\r2com\\\\AppData\\\\Local\\\\Programs\\\\Python\\\\Python312\\\\python312.zip', 'c:\\\\Users\\\\r2com\\\\AppData\\\\Local\\\\Programs\\\\Python\\\\Python312\\\\DLLs', 'c:\\\\Users\\\\r2com\\\\AppData\\\\Local\\\\Programs\\\\Python\\\\Python312\\\\Lib', 'c:\\\\Users\\\\r2com\\\\AppData\\\\Local\\\\Programs\\\\Python\\\\Python312', '', 'C:\\\\Users\\\\r2com\\\\AppData\\\\Roaming\\\\Python\\\\Python312\\\\site-packages', 'C:\\\\Users\\\\r2com\\\\AppData\\\\Roaming\\\\Python\\\\Python312\\\\site-packages\\\\win32', 'C:\\\\Users\\\\r2com\\\\AppData\\\\Roaming\\\\Python\\\\Python312\\\\site-packages\\\\win32\\\\lib', 'C:\\\\Users\\\\r2com\\\\AppData\\\\Roaming\\\\Python\\\\Python312\\\\site-packages\\\\Pythonwin', 'c:\\\\Users\\\\r2com\\\\AppData\\\\Local\\\\Programs\\\\Python\\\\Python312\\\\Lib\\\\site-packages', '~/Documents/Github/sesac-practice']\n"
     ]
    }
   ],
   "source": [
    "import sys\n",
    "print('befor:', sys.path)\n",
    "sys.path.append('~/Documents/Github/sesac-practice')\n",
    "\n",
    "print('after:', sys.path)"
   ]
  },
  {
   "cell_type": "code",
   "execution_count": 20,
   "metadata": {},
   "outputs": [
    {
     "data": {
      "text/plain": [
       "['c:\\\\Users\\\\r2com\\\\Documents\\\\GitHub\\\\sesac-practice',\n",
       " 'c:\\\\Users\\\\r2com\\\\AppData\\\\Local\\\\Programs\\\\Python\\\\Python312\\\\python312.zip',\n",
       " 'c:\\\\Users\\\\r2com\\\\AppData\\\\Local\\\\Programs\\\\Python\\\\Python312\\\\DLLs',\n",
       " 'c:\\\\Users\\\\r2com\\\\AppData\\\\Local\\\\Programs\\\\Python\\\\Python312\\\\Lib',\n",
       " 'c:\\\\Users\\\\r2com\\\\AppData\\\\Local\\\\Programs\\\\Python\\\\Python312',\n",
       " '',\n",
       " 'C:\\\\Users\\\\r2com\\\\AppData\\\\Roaming\\\\Python\\\\Python312\\\\site-packages',\n",
       " 'C:\\\\Users\\\\r2com\\\\AppData\\\\Roaming\\\\Python\\\\Python312\\\\site-packages\\\\win32',\n",
       " 'C:\\\\Users\\\\r2com\\\\AppData\\\\Roaming\\\\Python\\\\Python312\\\\site-packages\\\\win32\\\\lib',\n",
       " 'C:\\\\Users\\\\r2com\\\\AppData\\\\Roaming\\\\Python\\\\Python312\\\\site-packages\\\\Pythonwin',\n",
       " 'c:\\\\Users\\\\r2com\\\\AppData\\\\Local\\\\Programs\\\\Python\\\\Python312\\\\Lib\\\\site-packages',\n",
       " '~/Documents/Github/sesac-practice']"
      ]
     },
     "execution_count": 20,
     "metadata": {},
     "output_type": "execute_result"
    }
   ],
   "source": [
    "sys.path"
   ]
  },
  {
   "cell_type": "code",
   "execution_count": 21,
   "metadata": {},
   "outputs": [
    {
     "name": "stdout",
     "output_type": "stream",
     "text": [
      "c:\\Users\\r2com\\Documents\\GitHub\\sesac-practice\n"
     ]
    }
   ],
   "source": [
    "import os\n",
    "current_directory=os.getcwd()\n",
    "print(current_directory)"
   ]
  },
  {
   "cell_type": "code",
   "execution_count": 25,
   "metadata": {},
   "outputs": [
    {
     "name": "stdout",
     "output_type": "stream",
     "text": [
      "['.env', '.git', '.gitignore', 'example.txt', 'func.ipynb', 'module_practice.ipynb', 'note', 'prac_01_02.ipynb', 'README.md', 'submit', '__pycache__', '아이고 모르겠다.txt', '자기소개서']\n"
     ]
    }
   ],
   "source": [
    "files= os.listdir('.')\n",
    "print(files)"
   ]
  },
  {
   "cell_type": "code",
   "execution_count": 26,
   "metadata": {},
   "outputs": [
    {
     "data": {
      "text/plain": [
       "0"
      ]
     },
     "execution_count": 26,
     "metadata": {},
     "output_type": "execute_result"
    }
   ],
   "source": [
    "os.system('echo Hello World')"
   ]
  },
  {
   "cell_type": "code",
   "execution_count": 27,
   "metadata": {},
   "outputs": [
    {
     "name": "stdout",
     "output_type": "stream",
     "text": [
      "environ({'ALLUSERSPROFILE': 'C:\\\\ProgramData', 'APPDATA': 'C:\\\\Users\\\\r2com\\\\AppData\\\\Roaming', 'CHROME_CRASHPAD_PIPE_NAME': '\\\\\\\\.\\\\pipe\\\\crashpad_9152_KMHLYOFNUFHHKDZY', 'COMMONPROGRAMFILES': 'C:\\\\Program Files\\\\Common Files', 'COMMONPROGRAMFILES(X86)': 'C:\\\\Program Files (x86)\\\\Common Files', 'COMMONPROGRAMW6432': 'C:\\\\Program Files\\\\Common Files', 'COMPUTERNAME': 'DESKTOP-304U2MR', 'COMSPEC': 'C:\\\\Windows\\\\system32\\\\cmd.exe', 'DRIVERDATA': 'C:\\\\Windows\\\\System32\\\\Drivers\\\\DriverData', 'ELECTRON_RUN_AS_NODE': '1', 'FPS_BROWSER_APP_PROFILE_STRING': 'Internet Explorer', 'FPS_BROWSER_USER_PROFILE_STRING': 'Default', 'HOMEDRIVE': 'C:', 'HOMEPATH': '\\\\Users\\\\r2com', 'JPY_INTERRUPT_EVENT': '2076', 'LOCALAPPDATA': 'C:\\\\Users\\\\r2com\\\\AppData\\\\Local', 'LOGONSERVER': '\\\\\\\\DESKTOP-304U2MR', 'NUMBER_OF_PROCESSORS': '8', 'ONEDRIVE': 'C:\\\\Users\\\\r2com\\\\OneDrive', 'ORIGINAL_XDG_CURRENT_DESKTOP': 'undefined', 'OS': 'Windows_NT', 'PATH': 'c:\\\\Users\\\\r2com\\\\AppData\\\\Local\\\\Programs\\\\Python\\\\Python312;c:\\\\Users\\\\r2com\\\\AppData\\\\Roaming\\\\Python\\\\Python312\\\\Scripts;C:\\\\Windows\\\\system32;C:\\\\Windows;C:\\\\Windows\\\\System32\\\\Wbem;C:\\\\Windows\\\\System32\\\\WindowsPowerShell\\\\v1.0\\\\;C:\\\\Windows\\\\System32\\\\OpenSSH\\\\;C:\\\\Program Files\\\\Git\\\\cmd;C:\\\\Users\\\\r2com\\\\AppData\\\\Local\\\\Programs\\\\Python\\\\Python312\\\\Scripts\\\\;C:\\\\Users\\\\r2com\\\\AppData\\\\Local\\\\Programs\\\\Python\\\\Python312\\\\;C:\\\\Users\\\\r2com\\\\AppData\\\\Local\\\\Microsoft\\\\WindowsApps;C:\\\\Users\\\\r2com\\\\AppData\\\\Local\\\\Programs\\\\Microsoft VS Code\\\\bin;C:\\\\Users\\\\r2com\\\\AppData\\\\Local\\\\GitHubDesktop\\\\bin;C:\\\\Windows\\\\system32;C:\\\\Windows;C:\\\\Windows\\\\System32\\\\Wbem;C:\\\\Windows\\\\System32\\\\WindowsPowerShell\\\\v1.0\\\\;C:\\\\Windows\\\\System32\\\\OpenSSH\\\\;C:\\\\Program Files\\\\Git\\\\cmd;C:\\\\Users\\\\r2com\\\\AppData\\\\Local\\\\Programs\\\\Python\\\\Python312\\\\Scripts\\\\;C:\\\\Users\\\\r2com\\\\AppData\\\\Local\\\\Programs\\\\Python\\\\Python312\\\\;C:\\\\Users\\\\r2com\\\\AppData\\\\Local\\\\Microsoft\\\\WindowsApps;C:\\\\Users\\\\r2com\\\\AppData\\\\Local\\\\Programs\\\\Microsoft VS Code\\\\bin;C:\\\\Users\\\\r2com\\\\AppData\\\\Local\\\\GitHubDesktop\\\\bin', 'PATHEXT': '.COM;.EXE;.BAT;.CMD;.VBS;.VBE;.JS;.JSE;.WSF;.WSH;.MSC', 'PROCESSOR_ARCHITECTURE': 'AMD64', 'PROCESSOR_IDENTIFIER': 'Intel64 Family 6 Model 140 Stepping 1, GenuineIntel', 'PROCESSOR_LEVEL': '6', 'PROCESSOR_REVISION': '8c01', 'PROGRAMDATA': 'C:\\\\ProgramData', 'PROGRAMFILES': 'C:\\\\Program Files', 'PROGRAMFILES(X86)': 'C:\\\\Program Files (x86)', 'PROGRAMW6432': 'C:\\\\Program Files', 'PSMODULEPATH': 'C:\\\\Program Files\\\\WindowsPowerShell\\\\Modules;C:\\\\Windows\\\\system32\\\\WindowsPowerShell\\\\v1.0\\\\Modules', 'PUBLIC': 'C:\\\\Users\\\\Public', 'PYDEVD_IPYTHON_COMPATIBLE_DEBUGGING': '1', 'PYTHONIOENCODING': 'utf-8', 'PYTHONUNBUFFERED': '1', 'SESSIONNAME': 'Console', 'SYSTEMDRIVE': 'C:', 'SYSTEMROOT': 'C:\\\\Windows', 'TEMP': 'C:\\\\Users\\\\r2com\\\\AppData\\\\Local\\\\Temp', 'TMP': 'C:\\\\Users\\\\r2com\\\\AppData\\\\Local\\\\Temp', 'USERDOMAIN': 'DESKTOP-304U2MR', 'USERDOMAIN_ROAMINGPROFILE': 'DESKTOP-304U2MR', 'USERNAME': 'r2com', 'USERPROFILE': 'C:\\\\Users\\\\r2com', 'VSCODE_AMD_ENTRYPOINT': 'vs/workbench/api/node/extensionHostProcess', 'VSCODE_CODE_CACHE_PATH': 'C:\\\\Users\\\\r2com\\\\AppData\\\\Roaming\\\\Code\\\\CachedData\\\\0ee08df0cf4527e40edc9aa28f4b5bd38bbff2b2', 'VSCODE_CRASH_REPORTER_PROCESS_TYPE': 'extensionHost', 'VSCODE_CWD': 'C:\\\\Users\\\\r2com\\\\AppData\\\\Local\\\\Programs\\\\Microsoft VS Code', 'VSCODE_HANDLES_UNCAUGHT_ERRORS': 'true', 'VSCODE_IPC_HOOK': '\\\\\\\\.\\\\pipe\\\\d2323d8dd8daba6e4930d9904bf5b614-1.85.1-main-sock', 'VSCODE_L10N_BUNDLE_LOCATION': 'file:///c%3A/Users/r2com/.vscode/extensions/ms-ceintl.vscode-language-pack-ko-1.85.2023121309/translations/extensions/vscode.markdown-language-features.i18n.json', 'VSCODE_NLS_CONFIG': '{\"locale\":\"ko\",\"osLocale\":\"ko\",\"availableLanguages\":{\"*\":\"ko\"},\"_languagePackId\":\"8c714c23d05db6b414b8ab3c57f99fbe.ko\",\"_translationsConfigFile\":\"C:\\\\\\\\Users\\\\\\\\r2com\\\\\\\\AppData\\\\\\\\Roaming\\\\\\\\Code\\\\\\\\clp\\\\\\\\8c714c23d05db6b414b8ab3c57f99fbe.ko\\\\\\\\tcf.json\",\"_cacheRoot\":\"C:\\\\\\\\Users\\\\\\\\r2com\\\\\\\\AppData\\\\\\\\Roaming\\\\\\\\Code\\\\\\\\clp\\\\\\\\8c714c23d05db6b414b8ab3c57f99fbe.ko\",\"_resolvedLanguagePackCoreLocation\":\"C:\\\\\\\\Users\\\\\\\\r2com\\\\\\\\AppData\\\\\\\\Roaming\\\\\\\\Code\\\\\\\\clp\\\\\\\\8c714c23d05db6b414b8ab3c57f99fbe.ko\\\\\\\\0ee08df0cf4527e40edc9aa28f4b5bd38bbff2b2\",\"_corruptedFile\":\"C:\\\\\\\\Users\\\\\\\\r2com\\\\\\\\AppData\\\\\\\\Roaming\\\\\\\\Code\\\\\\\\clp\\\\\\\\8c714c23d05db6b414b8ab3c57f99fbe.ko\\\\\\\\corrupted.info\",\"_languagePackSupport\":true}', 'VSCODE_PID': '9152', 'WINDIR': 'C:\\\\Windows', 'ZES_ENABLE_SYSMAN': '1', 'PYDEVD_USE_FRAME_EVAL': 'NO', 'TERM': 'xterm-color', 'CLICOLOR': '1', 'FORCE_COLOR': '1', 'CLICOLOR_FORCE': '1', 'PAGER': 'cat', 'GIT_PAGER': 'cat', 'MPLBACKEND': 'module://matplotlib_inline.backend_inline'})\n",
      "c:\\Users\\r2com\\AppData\\Local\\Programs\\Python\\Python312;c:\\Users\\r2com\\AppData\\Roaming\\Python\\Python312\\Scripts;C:\\Windows\\system32;C:\\Windows;C:\\Windows\\System32\\Wbem;C:\\Windows\\System32\\WindowsPowerShell\\v1.0\\;C:\\Windows\\System32\\OpenSSH\\;C:\\Program Files\\Git\\cmd;C:\\Users\\r2com\\AppData\\Local\\Programs\\Python\\Python312\\Scripts\\;C:\\Users\\r2com\\AppData\\Local\\Programs\\Python\\Python312\\;C:\\Users\\r2com\\AppData\\Local\\Microsoft\\WindowsApps;C:\\Users\\r2com\\AppData\\Local\\Programs\\Microsoft VS Code\\bin;C:\\Users\\r2com\\AppData\\Local\\GitHubDesktop\\bin;C:\\Windows\\system32;C:\\Windows;C:\\Windows\\System32\\Wbem;C:\\Windows\\System32\\WindowsPowerShell\\v1.0\\;C:\\Windows\\System32\\OpenSSH\\;C:\\Program Files\\Git\\cmd;C:\\Users\\r2com\\AppData\\Local\\Programs\\Python\\Python312\\Scripts\\;C:\\Users\\r2com\\AppData\\Local\\Programs\\Python\\Python312\\;C:\\Users\\r2com\\AppData\\Local\\Microsoft\\WindowsApps;C:\\Users\\r2com\\AppData\\Local\\Programs\\Microsoft VS Code\\bin;C:\\Users\\r2com\\AppData\\Local\\GitHubDesktop\\bin\n"
     ]
    }
   ],
   "source": [
    "print(os.environ)\n",
    "path_value=os.environ.get('PATH')\n",
    "print(path_value)"
   ]
  },
  {
   "cell_type": "code",
   "execution_count": 28,
   "metadata": {},
   "outputs": [
    {
     "name": "stdout",
     "output_type": "stream",
     "text": [
      "3\n"
     ]
    }
   ],
   "source": [
    "import random\n",
    "print(random.randint(1,3))"
   ]
  },
  {
   "cell_type": "code",
   "execution_count": 29,
   "metadata": {},
   "outputs": [
    {
     "name": "stdout",
     "output_type": "stream",
     "text": [
      "구글\n"
     ]
    }
   ],
   "source": [
    "items=['삼성','애플','구글']\n",
    "print(random.choice(items))"
   ]
  },
  {
   "cell_type": "code",
   "execution_count": 32,
   "metadata": {},
   "outputs": [
    {
     "name": "stdout",
     "output_type": "stream",
     "text": [
      "[5, 4, 1, 2, 3]\n",
      "0.30007864700368914\n"
     ]
    }
   ],
   "source": [
    "numbers=[1,2,3,4,5]\n",
    "random.shuffle(numbers)\n",
    "print(numbers)\n",
    "print(random.random())"
   ]
  },
  {
   "cell_type": "code",
   "execution_count": 34,
   "metadata": {},
   "outputs": [
    {
     "name": "stdout",
     "output_type": "stream",
     "text": [
      "[4, 4, 3]\n"
     ]
    }
   ],
   "source": [
    "print(random.choices([1,2,3,4],weights=[1,1,1,1],k=3))"
   ]
  },
  {
   "cell_type": "code",
   "execution_count": 37,
   "metadata": {},
   "outputs": [
    {
     "name": "stdout",
     "output_type": "stream",
     "text": [
      "5초 후에 출력됩니다.\n",
      "짜잔\n"
     ]
    }
   ],
   "source": [
    "import time\n",
    "print(\"5초 후에 출력됩니다.\")\n",
    "time.sleep(5)\n",
    "print('짜잔')"
   ]
  },
  {
   "cell_type": "code",
   "execution_count": 52,
   "metadata": {},
   "outputs": [
    {
     "name": "stdout",
     "output_type": "stream",
     "text": [
      "1704946896.6442165\n"
     ]
    }
   ],
   "source": [
    "current_time=time.time()\n",
    "print(current_time)"
   ]
  },
  {
   "cell_type": "code",
   "execution_count": 53,
   "metadata": {},
   "outputs": [
    {
     "name": "stdout",
     "output_type": "stream",
     "text": [
      "2024년 -01-11  13:21:46\n"
     ]
    }
   ],
   "source": [
    "local_time=time.localtime()\n",
    "formatted_time=time.strftime('%Y년 -%m-%d  %H:%M:%S',local_time)\n",
    "print(formatted_time)"
   ]
  },
  {
   "cell_type": "code",
   "execution_count": 54,
   "metadata": {},
   "outputs": [
    {
     "name": "stdout",
     "output_type": "stream",
     "text": [
      "2024-01-11 13:25:03.895907\n"
     ]
    }
   ],
   "source": [
    "#datetime 모듈\n",
    "from datetime import datetime\n",
    "now=datetime.now()\n",
    "print(now)"
   ]
  },
  {
   "cell_type": "code",
   "execution_count": 55,
   "metadata": {},
   "outputs": [
    {
     "name": "stdout",
     "output_type": "stream",
     "text": [
      "2021-01-01 12:00:00\n"
     ]
    }
   ],
   "source": [
    "#특정 날짜와 시간 생성\n",
    "specific_time=datetime(2021,1,1,12,0)\n",
    "print(specific_time)"
   ]
  },
  {
   "cell_type": "code",
   "execution_count": 62,
   "metadata": {},
   "outputs": [
    {
     "name": "stdout",
     "output_type": "stream",
     "text": [
      "2024-01-11\n",
      "2021-01-01\n"
     ]
    },
    {
     "data": {
      "text/plain": [
       "datetime.date(2024, 1, 11)"
      ]
     },
     "execution_count": 62,
     "metadata": {},
     "output_type": "execute_result"
    }
   ],
   "source": [
    "#날짜만 다루기\n",
    "from datetime import date\n",
    "today=date.today()\n",
    "print(today)\n",
    "specific_date=date(2021,1,1)\n",
    "print(specific_date)\n",
    "today"
   ]
  },
  {
   "cell_type": "code",
   "execution_count": 59,
   "metadata": {},
   "outputs": [
    {
     "name": "stdout",
     "output_type": "stream",
     "text": [
      "2024-01-18\n",
      "2024-01-10\n"
     ]
    }
   ],
   "source": [
    "#시간 간격 계산\n",
    "from datetime import timedelta\n",
    "one_week_later=today+timedelta(days=7)\n",
    "print(one_week_later)\n",
    "\n",
    "yesterday=today-timedelta(days=1)\n",
    "print(yesterday)"
   ]
  },
  {
   "cell_type": "code",
   "execution_count": 61,
   "metadata": {},
   "outputs": [
    {
     "name": "stdout",
     "output_type": "stream",
     "text": [
      "2024년 -01-11  13:21:46\n",
      "2021-01-01 12:00:00\n"
     ]
    }
   ],
   "source": [
    "#날짜와 시간을 문자열로 형식화\n",
    "formatted_date=now.strftime(\"%Y-%m-%d  %H:%M:%S\")\n",
    "print(formatted_time)\n",
    "\n",
    "date_from_string=datetime.strptime(\"2021-01-01  12:00:00\",\"%Y-%m-%d  %H:%M:%S\")\n",
    "print(date_from_string)"
   ]
  },
  {
   "cell_type": "code",
   "execution_count": null,
   "metadata": {},
   "outputs": [],
   "source": []
  }
 ],
 "metadata": {
  "kernelspec": {
   "display_name": "Python 3",
   "language": "python",
   "name": "python3"
  },
  "language_info": {
   "codemirror_mode": {
    "name": "ipython",
    "version": 3
   },
   "file_extension": ".py",
   "mimetype": "text/x-python",
   "name": "python",
   "nbconvert_exporter": "python",
   "pygments_lexer": "ipython3",
   "version": "3.12.1"
  }
 },
 "nbformat": 4,
 "nbformat_minor": 2
}
