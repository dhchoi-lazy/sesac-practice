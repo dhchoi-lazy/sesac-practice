{
 "cells": [
  {
   "cell_type": "code",
   "execution_count": 1,
   "metadata": {},
   "outputs": [
    {
     "name": "stdout",
     "output_type": "stream",
     "text": [
      "15\n",
      "5\n"
     ]
    }
   ],
   "source": [
    "def add(a,b):\n",
    "    return a+b\n",
    "\n",
    "def subtract(a,b):\n",
    "    return a-b\n",
    "\n",
    "calc = [add, subtract]\n",
    "\n",
    "for i in calc:\n",
    "    print(i(10,5))"
   ]
  },
  {
   "cell_type": "code",
   "execution_count": 6,
   "metadata": {},
   "outputs": [
    {
     "name": "stdout",
     "output_type": "stream",
     "text": [
      "15\n",
      "5\n"
     ]
    }
   ],
   "source": [
    "def add(a,b):\n",
    "    return a+b\n",
    "def subtract(a,b):\n",
    "    return a-b\n",
    "calc = {\n",
    "    \"add\":add,\n",
    "    \"subtract\":subtract\n",
    "}\n",
    "num1 = calc[\"add\"](10,5)\n",
    "num2 = calc[\"subtract\"](10,5)\n",
    "\n",
    "print(num1)\n",
    "print(num2)"
   ]
  },
  {
   "cell_type": "code",
   "execution_count": 7,
   "metadata": {},
   "outputs": [
    {
     "data": {
      "text/plain": [
       "dict_values([<function add at 0x0000024461ABF060>, <function subtract at 0x0000024461ABEDE0>])"
      ]
     },
     "execution_count": 7,
     "metadata": {},
     "output_type": "execute_result"
    }
   ],
   "source": [
    "calc.values()"
   ]
  },
  {
   "cell_type": "code",
   "execution_count": 12,
   "metadata": {},
   "outputs": [
    {
     "name": "stdout",
     "output_type": "stream",
     "text": [
      "[1, 4, 9, 16, 25]\n"
     ]
    }
   ],
   "source": [
    "numbers = [1,2,3,4,5]\n",
    "squared = map(lambda x: x**2, numbers)\n",
    "print(list(squared))"
   ]
  },
  {
   "cell_type": "code",
   "execution_count": 16,
   "metadata": {},
   "outputs": [
    {
     "name": "stdout",
     "output_type": "stream",
     "text": [
      "[1, 2, 3, 4, 5]\n"
     ]
    }
   ],
   "source": [
    "str_numbers = [\"1\",\"2\",\"3\",\"4\",\"5\"]\n",
    "int_numbers = map(int,str_numbers) # 문자열을 정수로 변환\n",
    "print(list(int_numbers)) "
   ]
  },
  {
   "cell_type": "code",
   "execution_count": 17,
   "metadata": {},
   "outputs": [
    {
     "name": "stdout",
     "output_type": "stream",
     "text": [
      "[2, 4]\n"
     ]
    }
   ],
   "source": [
    "def is_even(number):\n",
    "\treturn number % 2 == 0\n",
    "numbers = [1,2,3,4,5]\n",
    "even_numbers = filter(is_even, numbers)\n",
    "print(list(even_numbers)) "
   ]
  },
  {
   "cell_type": "code",
   "execution_count": 19,
   "metadata": {},
   "outputs": [
    {
     "name": "stdout",
     "output_type": "stream",
     "text": [
      "[{'date': '2024-01-01', 'value': 10}]\n"
     ]
    }
   ],
   "source": [
    "data = [\n",
    "\t{\"date\": \"2024-01-01\", \"value\":10},\n",
    "\t{\"date\": \"2024-01-02\", \"value\":15},\n",
    "\t{\"date\": \"2024-01-03\", \"value\":20},\n",
    "]\n",
    "jan_first_data = filter(lambda x: x[\"date\"] == \"2024-01-01\", data)\n",
    "print(list(jan_first_data)) "
   ]
  },
  {
   "cell_type": "code",
   "execution_count": 24,
   "metadata": {},
   "outputs": [
    {
     "name": "stdout",
     "output_type": "stream",
     "text": [
      "['850505-1345678', '971212-1567890']\n"
     ]
    }
   ],
   "source": [
    "def drink_alcohol(pid):\n",
    "\tbirth_year = int(pid.split(\"-\")[0][:2])\n",
    "\tmillenial = int(pid.split(\"-\")[1][0]) >=3\n",
    "\tif millenial:\n",
    "\t\tbirth_year = 2000 + birth_year\n",
    "\telse:\n",
    "\t\tbirth_year = 1900 + birth_year\n",
    "\treturn 2024 - birth_year >= 20\n",
    "students = [\"050123-3234567\", \"850505-1345678\", \"060404-3456789\", \"971212-1567890\"]\n",
    "alcoholer = filter(drink_alcohol, students)\n",
    "print(list(alcoholer)) "
   ]
  },
  {
   "cell_type": "code",
   "execution_count": 25,
   "metadata": {},
   "outputs": [
    {
     "name": "stdout",
     "output_type": "stream",
     "text": [
      "8\n"
     ]
    }
   ],
   "source": [
    "add = lambda x,y: x + y\n",
    "print(add(5,3))"
   ]
  },
  {
   "cell_type": "code",
   "execution_count": 27,
   "metadata": {},
   "outputs": [
    {
     "name": "stdout",
     "output_type": "stream",
     "text": [
      "Sorted by length: ['똘기', '떵이', '호치', '마초', '미미', '몽치', '키키', '새초미', '드라고', '요롱이', '당다리', '찡찡이', '오로라공주']\n",
      "Longest string: 오로라공주\n",
      "Shortest string: 똘기\n"
     ]
    }
   ],
   "source": [
    "strings = [\"똘기\",\"떵이\",\"호치\",\"새초미\",\"드라고\",\"요롱이\",\"마초\",\"미미\",\"몽치\",\"키키\",\"당다리\",\"찡찡이\",\"오로라공주\"]\n",
    "\n",
    "# 문자열 길이에 따라 정렬\n",
    "strings.sort(key=lambda s: len(s))\n",
    "print(\"Sorted by length:\", strings)\n",
    "\n",
    "# 가장 긴 문자열 찾기\n",
    "longest_string = max(strings, key=lambda s: len(s))\n",
    "print(\"Longest string:\", longest_string)\n",
    "\n",
    "# 가장 짧은 문자열 찾기\n",
    "shortest_string = min(strings, key=lambda s: len(s))\n",
    "print(\"Shortest string:\", shortest_string)"
   ]
  },
  {
   "cell_type": "code",
   "execution_count": null,
   "metadata": {},
   "outputs": [],
   "source": []
  }
 ],
 "metadata": {
  "kernelspec": {
   "display_name": "Python 3",
   "language": "python",
   "name": "python3"
  },
  "language_info": {
   "codemirror_mode": {
    "name": "ipython",
    "version": 3
   },
   "file_extension": ".py",
   "mimetype": "text/x-python",
   "name": "python",
   "nbconvert_exporter": "python",
   "pygments_lexer": "ipython3",
   "version": "3.12.1"
  }
 },
 "nbformat": 4,
 "nbformat_minor": 2
}
